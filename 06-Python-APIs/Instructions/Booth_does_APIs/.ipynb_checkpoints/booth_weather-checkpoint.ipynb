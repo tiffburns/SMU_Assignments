{
 "cells": [
  {
   "cell_type": "markdown",
   "metadata": {},
   "source": [
    "# Imports"
   ]
  },
  {
   "cell_type": "code",
   "execution_count": 1,
   "metadata": {},
   "outputs": [],
   "source": [
    "# Dependencies and Setup\n",
    "\n",
    "# visualizations\n",
    "import matplotlib.pyplot as plt\n",
    "import seaborn as sns\n",
    "\n",
    "#data science - standard library\n",
    "import pandas as pd\n",
    "import numpy as np\n",
    "\n",
    "#requests\n",
    "import requests\n",
    "from pprint import pprint\n",
    "import time\n",
    "\n",
    "#regression\n",
    "from scipy.stats import linregress\n",
    "import statsmodels.api as sm\n",
    "from sklearn.linear_model import LinearRegression\n",
    "\n",
    "# Import API key\n",
    "from api_keys import weather_api_key\n",
    "\n",
    "# Incorporated citipy to determine city based on latitude and longitude\n",
    "from citipy import citipy\n",
    "\n",
    "# Output File (CSV)\n",
    "output_data_file = \"booth_cities.csv\"\n",
    "\n",
    "# Range of latitudes and longitudes\n",
    "lat_range = (-90, 90)\n",
    "lng_range = (-180, 180)"
   ]
  },
  {
   "cell_type": "markdown",
   "metadata": {},
   "source": [
    "# Generate City List"
   ]
  },
  {
   "cell_type": "code",
   "execution_count": 2,
   "metadata": {},
   "outputs": [
    {
     "data": {
      "text/plain": [
       "619"
      ]
     },
     "execution_count": 2,
     "metadata": {},
     "output_type": "execute_result"
    }
   ],
   "source": [
    "# List for holding lat_lngs and cities\n",
    "lat_lngs = []\n",
    "cities = []\n",
    "\n",
    "# Create a set of random lat and lng combinations\n",
    "lats = np.random.uniform(lat_range[0], lat_range[1], size=1500)\n",
    "lngs = np.random.uniform(lng_range[0], lng_range[1], size=1500)\n",
    "lat_lngs = zip(lats, lngs)\n",
    "\n",
    "# Identify nearest city for each lat, lng combination\n",
    "for lat_lng in lat_lngs:\n",
    "    city = citipy.nearest_city(lat_lng[0], lat_lng[1]).city_name\n",
    "    \n",
    "    # If the city is unique, then add it to a our cities list\n",
    "    if city not in cities:\n",
    "        cities.append(city)\n",
    "\n",
    "# Print the city count to confirm sufficient count\n",
    "len(cities)"
   ]
  },
  {
   "cell_type": "markdown",
   "metadata": {},
   "source": [
    "# Make Requests"
   ]
  },
  {
   "cell_type": "code",
   "execution_count": 4,
   "metadata": {},
   "outputs": [
    {
     "name": "stdout",
     "output_type": "stream",
     "text": [
      "Got data for city index: 0 of 10\n",
      "Missing data in OpenWeatherAPI for illoqqortoormiut\n",
      "Got data for city index: 5 of 10\n"
     ]
    },
    {
     "ename": "KeyboardInterrupt",
     "evalue": "",
     "output_type": "error",
     "traceback": [
      "\u001b[1;31m---------------------------------------------------------------------------\u001b[0m",
      "\u001b[1;31mKeyboardInterrupt\u001b[0m                         Traceback (most recent call last)",
      "\u001b[1;32m<ipython-input-4-5029c89e868f>\u001b[0m in \u001b[0;36m<module>\u001b[1;34m\u001b[0m\n\u001b[0;32m     64\u001b[0m \u001b[1;33m\u001b[0m\u001b[0m\n\u001b[0;32m     65\u001b[0m     \u001b[1;31m#sleep for requests\u001b[0m\u001b[1;33m\u001b[0m\u001b[1;33m\u001b[0m\u001b[1;33m\u001b[0m\u001b[0m\n\u001b[1;32m---> 66\u001b[1;33m     \u001b[0mtime\u001b[0m\u001b[1;33m.\u001b[0m\u001b[0msleep\u001b[0m\u001b[1;33m(\u001b[0m\u001b[1;36m1\u001b[0m\u001b[1;33m)\u001b[0m\u001b[1;33m\u001b[0m\u001b[1;33m\u001b[0m\u001b[0m\n\u001b[0m\u001b[0;32m     67\u001b[0m \u001b[1;33m\u001b[0m\u001b[0m\n\u001b[0;32m     68\u001b[0m \u001b[1;31m# make the dataframe\u001b[0m\u001b[1;33m\u001b[0m\u001b[1;33m\u001b[0m\u001b[1;33m\u001b[0m\u001b[0m\n",
      "\u001b[1;31mKeyboardInterrupt\u001b[0m: "
     ]
    }
   ],
   "source": [
    "#init lists to hold parsed data\n",
    "lats = []\n",
    "longs = []\n",
    "temps = []\n",
    "feel_likes = []\n",
    "humids = []\n",
    "pressures = []\n",
    "speeds = []\n",
    "cloudiness = []\n",
    "cities_found = []\n",
    "\n",
    "for i in range(len(cities)):\n",
    "    #get the city\n",
    "    city = cities[i]\n",
    "    \n",
    "    #create the url\n",
    "    units = \"imperial\"\n",
    "    url = f\"http://api.openweathermap.org/data/2.5/weather?q={city}&units={units}&appid={weather_api_key}\"\n",
    "#     print(url)\n",
    "\n",
    "    #make the request\n",
    "    response = requests.get(url)\n",
    "#     print(response.status_code)\n",
    "    \n",
    "    #error check\n",
    "    if response.status_code == 200:\n",
    "        data = response.json()\n",
    "#         pprint(data)\n",
    "        \n",
    "        try:\n",
    "            #extract the data\n",
    "            lat = data[\"coord\"][\"lat\"]\n",
    "            long = data[\"coord\"][\"lon\"]\n",
    "            temp = data[\"main\"][\"temp\"]\n",
    "            feels_like = data[\"main\"][\"feels_like\"]\n",
    "            humidity = data[\"main\"][\"humidity\"]\n",
    "            pressure = data[\"main\"][\"pressure\"]\n",
    "            speed = data[\"wind\"][\"speed\"]\n",
    "            clouds = data[\"clouds\"][\"all\"]\n",
    "            city_name = data[\"name\"]\n",
    "\n",
    "            #save the data\n",
    "            lats.append(lat)\n",
    "            longs.append(long)\n",
    "            temps.append(temp)\n",
    "            feel_likes.append(feels_like)\n",
    "            humids.append(humidity)\n",
    "            pressures.append(pressure)\n",
    "            speeds.append(speed)\n",
    "            cloudiness.append(clouds)\n",
    "            cities_found.append(city_name)\n",
    "        except Exception as e:\n",
    "            print(f\"Through exception for city {city}: {e}\")\n",
    "    \n",
    "    elif response.status_code == 404:\n",
    "        print(f\"Missing data in OpenWeatherAPI for {city}\")\n",
    "    else:\n",
    "        print(response.status_code)\n",
    "        print(\"Oh gosh darnit. The API is broken. Sad Face.\")\n",
    "        \n",
    "    #print every 5\n",
    "    if (i % 5 == 0):\n",
    "        print(f\"Got data for city index: {i} of {len(cities)}\")\n",
    "    \n",
    "    #sleep for requests\n",
    "    time.sleep(1)\n",
    "        \n",
    "# make the dataframe\n",
    "df = pd.DataFrame()\n",
    "df[\"City\"] = cities_found\n",
    "df[\"Latitude\"] = lats\n",
    "df[\"Longitude\"] = longs\n",
    "df[\"Temperature\"] = temps\n",
    "df[\"Feels Like\"] = feel_likes\n",
    "df[\"Humidity\"] = humids\n",
    "df[\"Pressure\"] = pressures\n",
    "df[\"Wind Speed\"] = speeds\n",
    "df[\"Cloudiness\"] = speeds\n",
    "\n",
    "df.head(10)"
   ]
  },
  {
   "cell_type": "code",
   "execution_count": null,
   "metadata": {},
   "outputs": [],
   "source": [
    "df.to_csv(output_data_file)"
   ]
  },
  {
   "cell_type": "code",
   "execution_count": null,
   "metadata": {},
   "outputs": [],
   "source": []
  }
 ],
 "metadata": {
  "kernelspec": {
   "display_name": "Python 3",
   "language": "python",
   "name": "python3"
  },
  "language_info": {
   "codemirror_mode": {
    "name": "ipython",
    "version": 3
   },
   "file_extension": ".py",
   "mimetype": "text/x-python",
   "name": "python",
   "nbconvert_exporter": "python",
   "pygments_lexer": "ipython3",
   "version": "3.7.3"
  }
 },
 "nbformat": 4,
 "nbformat_minor": 2
}
